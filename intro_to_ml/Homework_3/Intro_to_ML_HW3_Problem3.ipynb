{
  "nbformat": 4,
  "nbformat_minor": 0,
  "metadata": {
    "colab": {
      "provenance": [],
      "authorship_tag": "ABX9TyORX8Vade2pDkMLtJ/dWpUR",
      "include_colab_link": true
    },
    "kernelspec": {
      "name": "python3",
      "display_name": "Python 3"
    },
    "language_info": {
      "name": "python"
    }
  },
  "cells": [
    {
      "cell_type": "markdown",
      "metadata": {
        "id": "view-in-github",
        "colab_type": "text"
      },
      "source": [
        "<a href=\"https://colab.research.google.com/github/hburnt/Machine-Learning/blob/main/intro_to_ml/Homework_3/Intro_to_ML_HW3_Problem3.ipynb\" target=\"_parent\"><img src=\"https://colab.research.google.com/assets/colab-badge.svg\" alt=\"Open In Colab\"/></a>"
      ]
    },
    {
      "cell_type": "code",
      "execution_count": 1,
      "metadata": {
        "colab": {
          "base_uri": "https://localhost:8080/",
          "height": 707
        },
        "id": "NeboKmYSTId8",
        "outputId": "a52a7496-bbcf-46af-afb5-15a59a31a417"
      },
      "outputs": [
        {
          "output_type": "stream",
          "name": "stdout",
          "text": [
            "              precision    recall  f1-score   support\n",
            "\n",
            "           0       0.94      0.96      0.95        67\n",
            "           1       0.93      0.91      0.92        47\n",
            "\n",
            "    accuracy                           0.94       114\n",
            "   macro avg       0.94      0.94      0.94       114\n",
            "weighted avg       0.94      0.94      0.94       114\n",
            "\n"
          ]
        },
        {
          "output_type": "display_data",
          "data": {
            "text/plain": [
              "<Figure size 640x480 with 2 Axes>"
            ],
            "image/png": "[encoded data removed]"
          },
          "metadata": {}
        }
      ],
      "source": [
        "import numpy as np\n",
        "import pandas as pd\n",
        "import matplotlib.pyplot as plt\n",
        "import seaborn as sns\n",
        "from sklearn.model_selection import KFold\n",
        "from sklearn.model_selection import cross_val_score\n",
        "from sklearn.linear_model import LogisticRegression\n",
        "from sklearn.metrics import confusion_matrix\n",
        "from sklearn.metrics import classification_report\n",
        "from sklearn.model_selection import train_test_split\n",
        "from sklearn.preprocessing import StandardScaler\n",
        "from sklearn import metrics\n",
        "from sklearn.naive_bayes import GaussianNB\n",
        "\n",
        "url = 'https://raw.githubusercontent.com/hburnt/Intro-to-ML-datasets/main/cancer.csv'\n",
        "dataset = pd.DataFrame(pd.read_csv(url))\n",
        "dataset.head()\n",
        "\n",
        "# Checking the dataset for missing data\n",
        "def binary_map(x):\n",
        "  return x.map({'M': 1, 'B': 0})\n",
        "\n",
        "\n",
        "varlist = ['diagnosis']\n",
        "\n",
        "dataset[varlist] = dataset[varlist].apply(binary_map)\n",
        "\n",
        "dataset.isnull().sum()\n",
        "dataset.isna().sum()\n",
        "\n",
        "# Separating inputs from outputs\n",
        "inputs = dataset.iloc[:, 2:32].values\n",
        "outputs = dataset.iloc[:,1].values\n",
        "\n",
        "# Split the data into training and test data\n",
        "inputs_train, inputs_test, outputs_train, outputs_test = train_test_split(inputs, outputs, test_size=0.2, random_state=0)\n",
        "\n",
        "# Input standardization\n",
        "sc_inputs = StandardScaler()\n",
        "inputs_train = sc_inputs.fit_transform(inputs_train)\n",
        "inputs_test = sc_inputs.fit_transform(inputs_test)\n",
        "\n",
        "classifier = GaussianNB() # Weight Penalty\n",
        "classifier.fit(inputs_train, outputs_train)\n",
        "\n",
        "# Classifying data\n",
        "Output_pred = classifier.predict(inputs_test)\n",
        "\n",
        "cnf_matrix = confusion_matrix(outputs_test, Output_pred)\n",
        "\n",
        "accuracy = metrics.accuracy_score(outputs_test, Output_pred)\n",
        "precision = metrics.precision_score(outputs_test, Output_pred)\n",
        "recall = metrics.recall_score(outputs_test, Output_pred)\n",
        "\n",
        "# Confusion matrix heatmap\n",
        "\n",
        "class_names = [0, 1]\n",
        "fig, ax = plt.subplots()\n",
        "tick_marks = np.arange(len(class_names))\n",
        "plt.xticks(tick_marks, class_names)\n",
        "plt.yticks(tick_marks, class_names)\n",
        "# create heatmap\n",
        "sns.heatmap(pd.DataFrame(cnf_matrix), annot=True, cmap=\"YlGnBu\" ,fmt='g')\n",
        "ax.xaxis.set_label_position(\"top\")\n",
        "plt.tight_layout()\n",
        "plt.title('Confusion matrix', y=1.1)\n",
        "plt.ylabel('Actual label')\n",
        "plt.xlabel('Predicted label')\n",
        "report = classification_report(outputs_test, Output_pred)\n",
        "print(report)\n"
      ]
    }
  ]
}