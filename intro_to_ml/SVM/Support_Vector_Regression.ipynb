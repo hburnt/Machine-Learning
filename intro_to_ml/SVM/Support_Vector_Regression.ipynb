{
  "nbformat": 4,
  "nbformat_minor": 0,
  "metadata": {
    "colab": {
      "provenance": [],
      "authorship_tag": "ABX9TyPXBYVW0ctLrqeZShsq5UnX",
      "include_colab_link": true
    },
    "kernelspec": {
      "name": "python3",
      "display_name": "Python 3"
    },
    "language_info": {
      "name": "python"
    }
  },
  "cells": [
    {
      "cell_type": "markdown",
      "metadata": {
        "id": "view-in-github",
        "colab_type": "text"
      },
      "source": [
        "<a href=\"https://colab.research.google.com/github/hburnt/Machine-Learning/blob/main/intro_to_ml/SVM/Support_Vector_Regression.ipynb\" target=\"_parent\"><img src=\"https://colab.research.google.com/assets/colab-badge.svg\" alt=\"Open In Colab\"/></a>"
      ]
    },
    {
      "cell_type": "code",
      "source": [
        "def featureExtraction(kernelFunction, inputs, feature_amount):\n",
        "  pca = KernelPCA(n_components=feature_amount, kernel = kernelFunction)\n",
        "  principalComponents = pca.fit_transform(inputs)\n",
        "  principalDF = pd.DataFrame(data = principalComponents)\n",
        "  updatedInputs = principalDF.values\n",
        "  return updatedInputs"
      ],
      "metadata": {
        "id": "LgaPQn6hskhb"
      },
      "execution_count": 76,
      "outputs": []
    },
    {
      "cell_type": "code",
      "source": [
        "def printTest(feature_amount, kernelFunction, report):\n",
        "  print(\"Amount of features:\", feature_amount)\n",
        "  print(\"Kernel function used:\", kernelFunction)\n",
        "  print(report)\n",
        "  print(\"-------------------------------------------------------------\")"
      ],
      "metadata": {
        "id": "_6mzEYOespq4"
      },
      "execution_count": 77,
      "outputs": []
    },
    {
      "cell_type": "code",
      "execution_count": 78,
      "metadata": {
        "id": "ttBhqH47VbV5"
      },
      "outputs": [],
      "source": [
        "import pandas as pd\n",
        "import matplotlib.pyplot as plt\n",
        "import numpy as np\n",
        "import seaborn as sns\n",
        "from sklearn.preprocessing import StandardScaler\n",
        "from sklearn.svm import SVR\n",
        "from sklearn.decomposition import KernelPCA\n",
        "from sklearn.model_selection import train_test_split\n",
        "from sklearn.metrics import confusion_matrix\n",
        "from sklearn.metrics import classification_report\n",
        "from sklearn import metrics\n",
        "from sklearn.model_selection import KFold\n",
        "from sklearn.model_selection import cross_val_score\n",
        "from statistics import mean\n",
        "\n",
        "url = 'https://raw.githubusercontent.com/hburnt/Intro-to-ML-datasets/main/Housing.csv'\n",
        "\n",
        "df = pd.DataFrame(pd.read_csv(url))\n",
        "\n",
        "# Apply a binary map top to the inputs with \"yes\" or \"no\" as their value\n",
        "varlist =  ['mainroad', 'guestroom', 'basement', 'hotwaterheating', 'airconditioning', 'prefarea']\n",
        "def binary_map(x):\n",
        "  return x.map({'yes': 1, 'no':0})\n",
        "\n",
        "df[varlist] = df[varlist].apply(binary_map)\n",
        "\n",
        "inputs = df.iloc[:,1:12].values\n",
        "outputs = df.iloc[:,0].values\n",
        "outputs = np.reshape(outputs,(-1,1))\n",
        "\n",
        "sc = StandardScaler()\n",
        "inputs = sc.fit_transform(inputs)\n",
        "outputs = sc.fit_transform(outputs)\n",
        "\n",
        "outputs = np.ravel(outputs)\n",
        "kernelFunctions = ['linear', 'sigmoid', 'rbf', 'poly']\n",
        "kernelFunctions_last_index = len(kernelFunctions)-1\n",
        "K = [1, 2, 5, 10, 12, 15]\n",
        "\n",
        "pca = KernelPCA(n_components=5, kernel = 'linear')\n",
        "principalComponents = pca.fit_transform(inputs)\n",
        "principalDF = pd.DataFrame(data = principalComponents)\n",
        "updatedInputs = principalDF.values\n",
        "\n",
        "svr_lin = SVR(kernel='linear', C=1e3)\n",
        "\n",
        "outputs_lin = svr_lin.fit(updatedInputs, outputs).predict(updatedInputs)"
      ]
    }
  ]
}