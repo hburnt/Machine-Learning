{
  "nbformat": 4,
  "nbformat_minor": 0,
  "metadata": {
    "colab": {
      "provenance": [],
      "authorship_tag": "ABX9TyMFRm+j2olzX6bYLqKj6tMQ",
      "include_colab_link": true
    },
    "kernelspec": {
      "name": "python3",
      "display_name": "Python 3"
    },
    "language_info": {
      "name": "python"
    }
  },
  "cells": [
    {
      "cell_type": "markdown",
      "metadata": {
        "id": "view-in-github",
        "colab_type": "text"
      },
      "source": [
        "<a href=\"https://colab.research.google.com/github/hburnt/Machine-Learning/blob/main/intro_to_ml/SVM/Support_Vector_Regression.ipynb\" target=\"_parent\"><img src=\"https://colab.research.google.com/assets/colab-badge.svg\" alt=\"Open In Colab\"/></a>"
      ]
    },
    {
      "cell_type": "code",
      "source": [
        "def featureExtraction(kernelFunction, inputs, feature_amount):\n",
        "  pca = KernelPCA(n_components=feature_amount, kernel = kernelFunction)\n",
        "  principalComponents = pca.fit_transform(inputs)\n",
        "  principalDF = pd.DataFrame(data = principalComponents)\n",
        "  updatedInputs = principalDF.values\n",
        "  return updatedInputs"
      ],
      "metadata": {
        "id": "LgaPQn6hskhb"
      },
      "execution_count": 16,
      "outputs": []
    },
    {
      "cell_type": "code",
      "source": [
        "def printTest(feature_amount, kernelFunction, report):\n",
        "  print(\"Amount of features:\", feature_amount)\n",
        "  print(\"Kernel function used:\", kernelFunction)\n",
        "  print(report)\n",
        "  print(\"-------------------------------------------------------------\")"
      ],
      "metadata": {
        "id": "_6mzEYOespq4"
      },
      "execution_count": 17,
      "outputs": []
    },
    {
      "cell_type": "code",
      "execution_count": 18,
      "metadata": {
        "id": "ttBhqH47VbV5",
        "colab": {
          "base_uri": "https://localhost:8080/"
        },
        "outputId": "4433cee1-69fc-48af-f8f4-90704c0ddcb3"
      },
      "outputs": [
        {
          "output_type": "stream",
          "name": "stdout",
          "text": [
            "Amount of features: 1\n",
            "Kernel function used: linear\n",
            "0.6533807357732588\n",
            "-------------------------------------------------------------\n",
            "Amount of features: 2\n",
            "Kernel function used: linear\n",
            "0.6597306898526428\n",
            "-------------------------------------------------------------\n",
            "Amount of features: 5\n",
            "Kernel function used: linear\n",
            "0.6502010147964205\n",
            "-------------------------------------------------------------\n",
            "Amount of features: 10\n",
            "Kernel function used: linear\n",
            "0.6525776151346833\n",
            "-------------------------------------------------------------\n",
            "Amount of features: 12\n",
            "Kernel function used: linear\n",
            "0.6712680831273343\n",
            "-------------------------------------------------------------\n",
            "Amount of features: 15\n",
            "Kernel function used: linear\n",
            "0.6712680841483515\n",
            "-------------------------------------------------------------\n",
            "Amount of features: 1\n",
            "Kernel function used: sigmoid\n",
            "-407914426.5491729\n",
            "-------------------------------------------------------------\n",
            "Amount of features: 2\n",
            "Kernel function used: sigmoid\n",
            "-166767885.95127195\n",
            "-------------------------------------------------------------\n",
            "Amount of features: 5\n",
            "Kernel function used: sigmoid\n",
            "-18395133.78829985\n",
            "-------------------------------------------------------------\n",
            "Amount of features: 10\n",
            "Kernel function used: sigmoid\n",
            "-4997095.1834422415\n",
            "-------------------------------------------------------------\n",
            "Amount of features: 12\n",
            "Kernel function used: sigmoid\n",
            "-3239454.49862605\n",
            "-------------------------------------------------------------\n",
            "Amount of features: 15\n",
            "Kernel function used: sigmoid\n",
            "-6102466.705271283\n",
            "-------------------------------------------------------------\n",
            "Amount of features: 1\n",
            "Kernel function used: rbf\n",
            "0.4002229412893208\n",
            "-------------------------------------------------------------\n",
            "Amount of features: 2\n",
            "Kernel function used: rbf\n",
            "0.5612065753479645\n",
            "-------------------------------------------------------------\n",
            "Amount of features: 5\n",
            "Kernel function used: rbf\n",
            "0.16941494254111333\n",
            "-------------------------------------------------------------\n",
            "Amount of features: 10\n",
            "Kernel function used: rbf\n",
            "-0.45562392109200633\n",
            "-------------------------------------------------------------\n",
            "Amount of features: 12\n",
            "Kernel function used: rbf\n",
            "-0.29184587877481727\n",
            "-------------------------------------------------------------\n",
            "Amount of features: 15\n",
            "Kernel function used: rbf\n",
            "-0.42469144518296176\n",
            "-------------------------------------------------------------\n"
          ]
        }
      ],
      "source": [
        "import pandas as pd\n",
        "import matplotlib.pyplot as plt\n",
        "import numpy as np\n",
        "import seaborn as sns\n",
        "from sklearn.preprocessing import StandardScaler\n",
        "from sklearn.svm import SVR\n",
        "from sklearn.decomposition import KernelPCA\n",
        "from sklearn.model_selection import train_test_split\n",
        "from sklearn.metrics import confusion_matrix\n",
        "from sklearn.metrics import classification_report\n",
        "from sklearn import metrics\n",
        "from sklearn.model_selection import KFold\n",
        "from sklearn.model_selection import cross_val_score\n",
        "from sklearn.metrics import r2_score\n",
        "\n",
        "url = 'https://raw.githubusercontent.com/hburnt/Intro-to-ML-datasets/main/Housing.csv'\n",
        "\n",
        "df = pd.DataFrame(pd.read_csv(url))\n",
        "\n",
        "# Apply a binary map top to the inputs with \"yes\" or \"no\" as their value\n",
        "varlist =  ['mainroad', 'guestroom', 'basement', 'hotwaterheating', 'airconditioning', 'prefarea']\n",
        "def binary_map(x):\n",
        "  return x.map({'yes': 1, 'no':0})\n",
        "\n",
        "df[varlist] = df[varlist].apply(binary_map)\n",
        "\n",
        "inputs = df.iloc[:,1:12].values\n",
        "outputs = df.iloc[:,0].values\n",
        "outputs = np.reshape(outputs,(-1,1))\n",
        "\n",
        "# Pre processing inputs and outputs\n",
        "sc = StandardScaler()\n",
        "inputs = sc.fit_transform(inputs)\n",
        "outputs = sc.fit_transform(outputs)\n",
        "outputs = np.ravel(outputs)\n",
        "\n",
        "# Testing different kernel functions\n",
        "kernelFunctions = ['linear', 'sigmoid', 'rbf', 'poly']\n",
        "kernelFunctions_last_index = len(kernelFunctions)-1\n",
        "K = [1, 2, 5, 10, 12, 15]\n",
        "\n",
        "for i in range(0,kernelFunctions_last_index):\n",
        "  for N in K:\n",
        "    newInputs = featureExtraction(kernelFunctions[i], inputs, N)\n",
        "    train_inputs, test_inputs, train_outputs, test_outputs = train_test_split(newInputs, outputs, test_size = 0.2, random_state=0)\n",
        "    model = SVR(kernel=kernelFunctions[i], C=1e3)\n",
        "    model.fit(train_inputs, train_outputs)\n",
        "    Output_prediction = model.predict(test_inputs)\n",
        "\n",
        "    score = r2_score(test_outputs, Output_prediction)\n",
        "    printTest(N, kernelFunctions[i], score)\n"
      ]
    }
  ]
}