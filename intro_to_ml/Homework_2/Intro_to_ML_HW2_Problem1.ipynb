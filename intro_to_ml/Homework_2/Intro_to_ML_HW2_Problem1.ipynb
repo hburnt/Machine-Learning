{
  "nbformat": 4,
  "nbformat_minor": 0,
  "metadata": {
    "colab": {
      "provenance": [],
      "authorship_tag": "ABX9TyOZ2cU7CWL4AVaMXAMMktjD",
      "include_colab_link": true
    },
    "kernelspec": {
      "name": "python3",
      "display_name": "Python 3"
    },
    "language_info": {
      "name": "python"
    }
  },
  "cells": [
    {
      "cell_type": "markdown",
      "metadata": {
        "id": "view-in-github",
        "colab_type": "text"
      },
      "source": [
        "<a href=\"https://colab.research.google.com/github/hburnt/Machine-Learning/blob/main/intro_to_ml/Homework_2/Intro_to_ML_HW2_Problem1.ipynb\" target=\"_parent\"><img src=\"https://colab.research.google.com/assets/colab-badge.svg\" alt=\"Open In Colab\"/></a>"
      ]
    },
    {
      "cell_type": "code",
      "execution_count": 25,
      "metadata": {
        "id": "CLmSmjdZPJMu"
      },
      "outputs": [],
      "source": [
        "import numpy as np\n",
        "import matplotlib.pyplot as plt\n",
        "import pandas as pd\n",
        "url = 'https://raw.githubusercontent.com/hburnt/Intro-to-ML-datasets/main/Housing.csv'\n",
        "\n",
        "df = pd.read_csv(url)"
      ]
    },
    {
      "cell_type": "code",
      "source": [
        "#Defining inputs and outputs for problem 1\n",
        "area = df.values[:,1]\n",
        "bedrooms = df.values[:,2]\n",
        "bathrooms = df.values[:,3]\n",
        "stories = df.values[:,4]\n",
        "parking = df.values[:,10]\n",
        "price = df.values[:,0]\n",
        "\n",
        "#Making a matrix for the inputs we care about\n",
        "inputs  = np.hstack( (area, bedrooms, bathrooms, stories, parking) )\n",
        "outputs = price\n",
        "\n",
        "#Using 80% of the inputs for our training inputs/outputs and 20% for the evalutation(test) inputs/outputs\n",
        "training_size = int(0.8*len(price))\n",
        "\n",
        "#Training outputs/inputs\n",
        "training_inputs = inputs[:training_size]\n",
        "training_outputs = outputs[:training_size]\n",
        "\n",
        "#Evaluation(test) inputs/outputs\n",
        "test_inputs = inputs[training_size:]\n",
        "test_outputs = outputs[training_size:]"
      ],
      "metadata": {
        "id": "RPk5wdY7UlRB"
      },
      "execution_count": 26,
      "outputs": []
    },
    {
      "cell_type": "code",
      "source": [
        "def trainingCostFunc(size, error):\n",
        "  cost = ( (1)/(2*size)) * np.sum( np.square(error))\n",
        "  return cost"
      ],
      "metadata": {
        "id": "L634UhnEVGEt"
      },
      "execution_count": 27,
      "outputs": []
    },
    {
      "cell_type": "code",
      "source": [
        "#----------------- Gradient Descent Function -----------------#\n",
        "def gradient_descent(inputs, outputs, theta, learningRate, iterations):\n",
        "  data_loss = np.zeros(iterations)\n",
        "  length = len(outputs)\n",
        "\n",
        "  for i in range(iterations):\n",
        "    predicted_values = inputs.dot(theta)\n",
        "    error = np.subtract(predicted_values, inputs)\n",
        "    gradients = (1/m) * ( inputs.transpose().dot(error))\n",
        "    theta -= (learningRate * gradients)\n",
        "    data_loss[i] = trainingCostFunc(length, error)\n",
        "\n",
        "  return theta, data_loss"
      ],
      "metadata": {
        "id": "UvLlDdEcttvS"
      },
      "execution_count": 28,
      "outputs": []
    }
  ]
}