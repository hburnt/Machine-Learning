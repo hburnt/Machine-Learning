{
 "cells": [
  {
   "cell_type": "code",
   "execution_count": 1,
   "id": "8d5a684e-d1c7-41b7-945e-fd7e076850b8",
   "metadata": {
    "tags": []
   },
   "outputs": [],
   "source": [
    "import torch\n",
    "import torch.optim as optim\n",
    "import matplotlib.pyplot as plt"
   ]
  },
  {
   "cell_type": "code",
   "execution_count": 2,
   "id": "7f71b8e6-4948-4579-94a3-de7445a968c4",
   "metadata": {
    "tags": []
   },
   "outputs": [],
   "source": [
    "#Splitting training and Validation Data\n",
    "t_c = [0.5, 14.0, 15.0, 28.0, 11.0, 8.0, 3.0, -4.0, 6.0, 13.0, 21.0]\n",
    "t_u = [35.7, 55.9, 58.2, 81.9, 56.3, 48.9, 33.9, 21.8, 48.4, 60.4, 68.4]\n",
    "t_c = torch.tensor(t_c)\n",
    "t_u = torch.tensor(t_u)\n",
    "\n",
    "t_un = 0.1 * t_u\n",
    "sample_size = t_u.shape[0]\n",
    "value_size = int(0.2 * sample_size)\n",
    "\n",
    "shuffled_indices = torch.randperm(sample_size)\n",
    "\n",
    "train_indices = shuffled_indices[:-value_size]\n",
    "val_indices = shuffled_indices[-value_size:]\n",
    "\n",
    "train_t_u = t_u[train_indices]\n",
    "train_t_c = t_c[train_indices]\n",
    "\n",
    "val_t_u = t_u[val_indices]\n",
    "val_t_c = t_c[val_indices]\n",
    "\n",
    "train_t_un = t_un[train_indices]\n",
    "val_t_un = t_un[val_indices]"
   ]
  },
  {
   "cell_type": "code",
   "execution_count": 3,
   "id": "12e4af96-d7a2-4845-b3be-164e1e559c76",
   "metadata": {
    "tags": []
   },
   "outputs": [],
   "source": [
    "def non_linear_model(t_u, w1, w2, b):\n",
    "    return w2*t_u**2 + w1*t_u + b"
   ]
  },
  {
   "cell_type": "code",
   "execution_count": 4,
   "id": "ca37f317-874f-4950-9688-1d119124af6f",
   "metadata": {},
   "outputs": [],
   "source": [
    "def linear_model(t_u, w1, b):\n",
    "    return w1*t_u + b"
   ]
  },
  {
   "cell_type": "code",
   "execution_count": 5,
   "id": "c33d65f0-606e-4482-a8e7-787d637fb9cc",
   "metadata": {},
   "outputs": [],
   "source": [
    "def non_linear_training_loop(epochs, optimizer, parameters, train_t_u, val_t_u, train_t_c, val_t_c):\n",
    "    for epoch in range(1, epochs + 1):\n",
    "            \n",
    "        train_t_p = non_linear_model(train_t_u, *parameters)\n",
    "        train_loss = loss_fn(train_t_p, train_t_c)\n",
    "        \n",
    "        val_t_p = non_linear_model(val_t_u, *parameters)\n",
    "        val_loss = loss_fn(val_t_p, val_t_c) \n",
    "        \n",
    "        optimizer.zero_grad()\n",
    "        train_loss.backward()\n",
    "        optimizer.step()\n",
    "            \n",
    "        if epoch % 500 == 0:\n",
    "            print(f'Epochs: {epoch}, \\tTraining loss {train_loss:}, \\tValidation loss: {val_loss:}')\n",
    "    print('')    \n",
    "    return parameters"
   ]
  },
  {
   "cell_type": "code",
   "execution_count": 6,
   "id": "02ed9e47-419d-4d89-a3d1-8c208ad159ef",
   "metadata": {},
   "outputs": [],
   "source": [
    "def linear_training_loop(epochs, optimizer, parameters, train_t_u, val_t_u, train_t_c, val_t_c):\n",
    "    for epoch in range(1, epochs+1):\n",
    "        train_t_p = linear_model(train_t_u, *parameters)\n",
    "        train_loss = loss_fn(train_t_p, train_t_c)\n",
    "        \n",
    "        val_t_p = linear_model(val_t_u, *parameters)\n",
    "        val_loss = loss_fn(val_t_p, val_t_c)\n",
    "        \n",
    "        optimizer.zero_grad()\n",
    "        train_loss.backward()\n",
    "        optimizer.step()\n",
    "        \n",
    "        if epoch % 500 == 0:\n",
    "            print(f'Epochs: {epoch}, \\tTraining loss {train_loss:}, \\tValidation loss: {val_loss:}')\n",
    "    print('')     \n",
    "    return parameters"
   ]
  },
  {
   "cell_type": "code",
   "execution_count": 7,
   "id": "e436ae06-7e06-41b1-a8cb-38726625f5db",
   "metadata": {
    "tags": []
   },
   "outputs": [],
   "source": [
    "def loss_fn(t_p, t_c):\n",
    "    square_error = (t_p - t_c)**2\n",
    "    return square_error.mean()"
   ]
  },
  {
   "cell_type": "code",
   "execution_count": 8,
   "id": "18286f97-38ac-4898-89cd-1631255f68bd",
   "metadata": {
    "tags": []
   },
   "outputs": [
    {
     "name": "stdout",
     "output_type": "stream",
     "text": [
      "Epochs: 500, \tTraining loss nan, \tValidation loss: nan\n",
      "Epochs: 1000, \tTraining loss nan, \tValidation loss: nan\n",
      "Epochs: 1500, \tTraining loss nan, \tValidation loss: nan\n",
      "Epochs: 2000, \tTraining loss nan, \tValidation loss: nan\n",
      "Epochs: 2500, \tTraining loss nan, \tValidation loss: nan\n",
      "Epochs: 3000, \tTraining loss nan, \tValidation loss: nan\n",
      "Epochs: 3500, \tTraining loss nan, \tValidation loss: nan\n",
      "Epochs: 4000, \tTraining loss nan, \tValidation loss: nan\n",
      "Epochs: 4500, \tTraining loss nan, \tValidation loss: nan\n",
      "Epochs: 5000, \tTraining loss nan, \tValidation loss: nan\n",
      "\n"
     ]
    },
    {
     "data": {
      "text/plain": [
       "tensor([nan, nan, nan], requires_grad=True)"
      ]
     },
     "execution_count": 8,
     "metadata": {},
     "output_type": "execute_result"
    }
   ],
   "source": [
    "# SGD Optimizer Model LR: 0.1\n",
    "parameters = torch.tensor([1.0, 1.0, 0.0], requires_grad=True)\n",
    "epochs = 5000\n",
    "learning_rate = 0.1\n",
    "optimizer = optim.SGD([parameters], lr = learning_rate)\n",
    "non_linear_training_loop(epochs, optimizer, parameters, train_t_un, val_t_un, train_t_c, val_t_c)"
   ]
  },
  {
   "cell_type": "code",
   "execution_count": 9,
   "id": "690b1284-9044-4c5e-8cf1-743859754911",
   "metadata": {
    "tags": []
   },
   "outputs": [
    {
     "name": "stdout",
     "output_type": "stream",
     "text": [
      "Epochs: 500, \tTraining loss nan, \tValidation loss: nan\n",
      "Epochs: 1000, \tTraining loss nan, \tValidation loss: nan\n",
      "Epochs: 1500, \tTraining loss nan, \tValidation loss: nan\n",
      "Epochs: 2000, \tTraining loss nan, \tValidation loss: nan\n",
      "Epochs: 2500, \tTraining loss nan, \tValidation loss: nan\n",
      "Epochs: 3000, \tTraining loss nan, \tValidation loss: nan\n",
      "Epochs: 3500, \tTraining loss nan, \tValidation loss: nan\n",
      "Epochs: 4000, \tTraining loss nan, \tValidation loss: nan\n",
      "Epochs: 4500, \tTraining loss nan, \tValidation loss: nan\n",
      "Epochs: 5000, \tTraining loss nan, \tValidation loss: nan\n",
      "\n"
     ]
    },
    {
     "data": {
      "text/plain": [
       "tensor([nan, nan, nan], requires_grad=True)"
      ]
     },
     "execution_count": 9,
     "metadata": {},
     "output_type": "execute_result"
    }
   ],
   "source": [
    "# SGD Optimizer Model LR: 0.01\n",
    "parameters = torch.tensor([1.0, 1.0, 0.0], requires_grad=True)\n",
    "epochs = 5000\n",
    "learning_rate = 0.01\n",
    "optimizer = optim.SGD([parameters], lr = learning_rate)\n",
    "non_linear_training_loop(epochs, optimizer, parameters, train_t_un, val_t_un, train_t_c, val_t_c)"
   ]
  },
  {
   "cell_type": "code",
   "execution_count": 10,
   "id": "d6446b87-2af4-4021-9bd9-abb8113ee11f",
   "metadata": {},
   "outputs": [
    {
     "name": "stdout",
     "output_type": "stream",
     "text": [
      "Epochs: 500, \tTraining loss nan, \tValidation loss: nan\n",
      "Epochs: 1000, \tTraining loss nan, \tValidation loss: nan\n",
      "Epochs: 1500, \tTraining loss nan, \tValidation loss: nan\n",
      "Epochs: 2000, \tTraining loss nan, \tValidation loss: nan\n",
      "Epochs: 2500, \tTraining loss nan, \tValidation loss: nan\n",
      "Epochs: 3000, \tTraining loss nan, \tValidation loss: nan\n",
      "Epochs: 3500, \tTraining loss nan, \tValidation loss: nan\n",
      "Epochs: 4000, \tTraining loss nan, \tValidation loss: nan\n",
      "Epochs: 4500, \tTraining loss nan, \tValidation loss: nan\n",
      "Epochs: 5000, \tTraining loss nan, \tValidation loss: nan\n",
      "\n"
     ]
    },
    {
     "data": {
      "text/plain": [
       "tensor([nan, nan, nan], requires_grad=True)"
      ]
     },
     "execution_count": 10,
     "metadata": {},
     "output_type": "execute_result"
    }
   ],
   "source": [
    "# SGD Optimizer Model LR: 0.001\n",
    "parameters = torch.tensor([1.0, 1.0, 0.0], requires_grad=True)\n",
    "epochs = 5000\n",
    "learning_rate = 0.001\n",
    "optimizer = optim.SGD([parameters], lr = learning_rate)\n",
    "non_linear_training_loop(epochs, optimizer, parameters, train_t_un, val_t_un, train_t_c, val_t_c)"
   ]
  },
  {
   "cell_type": "code",
   "execution_count": 11,
   "id": "3fe12a52-7d85-4db3-991f-ce79a424232e",
   "metadata": {},
   "outputs": [
    {
     "name": "stdout",
     "output_type": "stream",
     "text": [
      "Epochs: 500, \tTraining loss 7.093513011932373, \tValidation loss: 31.375423431396484\n",
      "Epochs: 1000, \tTraining loss 5.880574703216553, \tValidation loss: 27.43398666381836\n",
      "Epochs: 1500, \tTraining loss 5.000383377075195, \tValidation loss: 24.286272048950195\n",
      "Epochs: 2000, \tTraining loss 4.361608505249023, \tValidation loss: 21.75691032409668\n",
      "Epochs: 2500, \tTraining loss 3.897984027862549, \tValidation loss: 19.712352752685547\n",
      "Epochs: 3000, \tTraining loss 3.5614330768585205, \tValidation loss: 18.050323486328125\n",
      "Epochs: 3500, \tTraining loss 3.317079544067383, \tValidation loss: 16.692068099975586\n",
      "Epochs: 4000, \tTraining loss 3.139615297317505, \tValidation loss: 15.576534271240234\n",
      "Epochs: 4500, \tTraining loss 3.01067852973938, \tValidation loss: 14.656118392944336\n",
      "Epochs: 5000, \tTraining loss 2.916952133178711, \tValidation loss: 13.893463134765625\n",
      "\n"
     ]
    },
    {
     "data": {
      "text/plain": [
       "tensor([-0.5374,  0.5017, -0.6002], requires_grad=True)"
      ]
     },
     "execution_count": 11,
     "metadata": {},
     "output_type": "execute_result"
    }
   ],
   "source": [
    "# SGD Optimizer Model LR: 0.0001\n",
    "parameters = torch.tensor([1.0, 1.0, 0.0], requires_grad=True)\n",
    "epochs = 5000\n",
    "learning_rate = 0.0001\n",
    "optimizer = optim.SGD([parameters], lr = learning_rate)\n",
    "non_linear_training_loop(epochs, optimizer, parameters, train_t_un, val_t_un, train_t_c, val_t_c)"
   ]
  },
  {
   "cell_type": "code",
   "execution_count": 12,
   "id": "cf7e97d6-e87d-475d-be15-83dc3f411611",
   "metadata": {
    "tags": []
   },
   "outputs": [
    {
     "name": "stdout",
     "output_type": "stream",
     "text": [
      "Epochs: 500, \tTraining loss 3.2139244079589844, \tValidation loss: 15.558862686157227\n",
      "Epochs: 1000, \tTraining loss 2.8043243885040283, \tValidation loss: 12.643875122070312\n",
      "Epochs: 1500, \tTraining loss 2.6471409797668457, \tValidation loss: 10.663536071777344\n",
      "Epochs: 2000, \tTraining loss 2.613929033279419, \tValidation loss: 9.702756881713867\n",
      "Epochs: 2500, \tTraining loss 2.607117176055908, \tValidation loss: 9.350753784179688\n",
      "Epochs: 3000, \tTraining loss 2.6018495559692383, \tValidation loss: 9.226733207702637\n",
      "Epochs: 3500, \tTraining loss 2.59521484375, \tValidation loss: 9.14360523223877\n",
      "Epochs: 4000, \tTraining loss 2.586745262145996, \tValidation loss: 9.0472412109375\n",
      "Epochs: 4500, \tTraining loss 2.576007604598999, \tValidation loss: 8.92567253112793\n",
      "Epochs: 5000, \tTraining loss 2.562495231628418, \tValidation loss: 8.772589683532715\n",
      "\n"
     ]
    },
    {
     "data": {
      "text/plain": [
       "tensor([-0.0562,  0.0053, -1.6612], requires_grad=True)"
      ]
     },
     "execution_count": 12,
     "metadata": {},
     "output_type": "execute_result"
    }
   ],
   "source": [
    "#Adam Optimizer Model LR: 0.1\n",
    "parameters = torch.tensor([1.0, 1.0, 0.0], requires_grad=True)\n",
    "epochs = 5000\n",
    "learning_rate = 0.1\n",
    "optimizer = optim.Adam([parameters], lr = learning_rate)\n",
    "non_linear_training_loop(epochs, optimizer, parameters, train_t_u, val_t_u, train_t_c, val_t_c)"
   ]
  },
  {
   "cell_type": "code",
   "execution_count": 13,
   "id": "309a3605-97b1-4524-b9fd-73cd11ca56a6",
   "metadata": {},
   "outputs": [
    {
     "name": "stdout",
     "output_type": "stream",
     "text": [
      "Epochs: 500, \tTraining loss 3.6347744464874268, \tValidation loss: 17.769365310668945\n",
      "Epochs: 1000, \tTraining loss 3.59515380859375, \tValidation loss: 17.57802963256836\n",
      "Epochs: 1500, \tTraining loss 3.538723945617676, \tValidation loss: 17.300649642944336\n",
      "Epochs: 2000, \tTraining loss 3.466017246246338, \tValidation loss: 16.933895111083984\n",
      "Epochs: 2500, \tTraining loss 3.3776895999908447, \tValidation loss: 16.47229766845703\n",
      "Epochs: 3000, \tTraining loss 3.2754125595092773, \tValidation loss: 15.911802291870117\n",
      "Epochs: 3500, \tTraining loss 3.1625285148620605, \tValidation loss: 15.25291633605957\n",
      "Epochs: 4000, \tTraining loss 3.0445146560668945, \tValidation loss: 14.504093170166016\n",
      "Epochs: 4500, \tTraining loss 2.9289159774780273, \tValidation loss: 13.684946060180664\n",
      "Epochs: 5000, \tTraining loss 2.8244707584381104, \tValidation loss: 12.828365325927734\n",
      "\n"
     ]
    },
    {
     "data": {
      "text/plain": [
       "tensor([-0.0382,  0.0049, -1.1105], requires_grad=True)"
      ]
     },
     "execution_count": 13,
     "metadata": {},
     "output_type": "execute_result"
    }
   ],
   "source": [
    "#Adam Optimizer Model LR: 0.01\n",
    "parameters = torch.tensor([1.0, 1.0, 0.0], requires_grad=True)\n",
    "epochs = 5000\n",
    "learning_rate = 0.01\n",
    "optimizer = optim.Adam([parameters], lr = learning_rate)\n",
    "non_linear_training_loop(epochs, optimizer, parameters, train_t_u, val_t_u, train_t_c, val_t_c)"
   ]
  },
  {
   "cell_type": "code",
   "execution_count": 14,
   "id": "7029cb65-72c3-4eed-9087-4c8b37595101",
   "metadata": {},
   "outputs": [
    {
     "name": "stdout",
     "output_type": "stream",
     "text": [
      "Epochs: 500, \tTraining loss 4276151.5, \tValidation loss: 932615.4375\n",
      "Epochs: 1000, \tTraining loss 896054.25, \tValidation loss: 196819.703125\n",
      "Epochs: 1500, \tTraining loss 104892.015625, \tValidation loss: 23627.279296875\n",
      "Epochs: 2000, \tTraining loss 5577.318359375, \tValidation loss: 1426.7462158203125\n",
      "Epochs: 2500, \tTraining loss 110.59620666503906, \tValidation loss: 68.78181457519531\n",
      "Epochs: 3000, \tTraining loss 4.197543144226074, \tValidation loss: 19.92562484741211\n",
      "Epochs: 3500, \tTraining loss 3.637875556945801, \tValidation loss: 17.84321403503418\n",
      "Epochs: 4000, \tTraining loss 3.6309831142425537, \tValidation loss: 17.751747131347656\n",
      "Epochs: 4500, \tTraining loss 3.6228227615356445, \tValidation loss: 17.711936950683594\n",
      "Epochs: 5000, \tTraining loss 3.612412452697754, \tValidation loss: 17.66168975830078\n",
      "\n"
     ]
    },
    {
     "data": {
      "text/plain": [
       "tensor([ 0.0027,  0.0042, -0.9997], requires_grad=True)"
      ]
     },
     "execution_count": 14,
     "metadata": {},
     "output_type": "execute_result"
    }
   ],
   "source": [
    "#Adam Optimizer Model LR: 0.001\n",
    "parameters = torch.tensor([1.0, 1.0, 0.0], requires_grad=True)\n",
    "epochs = 5000\n",
    "learning_rate = 0.001\n",
    "optimizer = optim.Adam([parameters], lr = learning_rate)\n",
    "non_linear_training_loop(epochs, optimizer, parameters, train_t_u, val_t_u, train_t_c, val_t_c)"
   ]
  },
  {
   "cell_type": "code",
   "execution_count": 15,
   "id": "1aa7e3a9-7022-4ec4-a35c-3fc497b8fb15",
   "metadata": {
    "tags": []
   },
   "outputs": [
    {
     "name": "stdout",
     "output_type": "stream",
     "text": [
      "Epochs: 500, \tTraining loss 12332119.0, \tValidation loss: 2682973.5\n",
      "Epochs: 1000, \tTraining loss 11103998.0, \tValidation loss: 2416243.75\n",
      "Epochs: 1500, \tTraining loss 9962219.0, \tValidation loss: 2168240.75\n",
      "Epochs: 2000, \tTraining loss 8900254.0, \tValidation loss: 1937549.25\n",
      "Epochs: 2500, \tTraining loss 7912799.0, \tValidation loss: 1723018.0\n",
      "Epochs: 3000, \tTraining loss 6995618.0, \tValidation loss: 1523727.875\n",
      "Epochs: 3500, \tTraining loss 6145324.5, \tValidation loss: 1338944.0\n",
      "Epochs: 4000, \tTraining loss 5359233.0, \tValidation loss: 1168084.375\n",
      "Epochs: 4500, \tTraining loss 4635176.5, \tValidation loss: 1010678.25\n",
      "Epochs: 5000, \tTraining loss 3971350.25, \tValidation loss: 866335.0\n",
      "\n"
     ]
    },
    {
     "data": {
      "text/plain": [
       "tensor([ 0.5412,  0.5412, -0.4588], requires_grad=True)"
      ]
     },
     "execution_count": 15,
     "metadata": {},
     "output_type": "execute_result"
    }
   ],
   "source": [
    "#Adam Optimizer Model LR: 0.0001\n",
    "parameters = torch.tensor([1.0, 1.0, 0.0], requires_grad=True)\n",
    "epochs = 5000\n",
    "learning_rate = 0.0001\n",
    "optimizer = optim.Adam([parameters], lr = learning_rate)\n",
    "non_linear_training_loop(epochs, optimizer, parameters, train_t_u, val_t_u, train_t_c, val_t_c)"
   ]
  },
  {
   "cell_type": "code",
   "execution_count": 16,
   "id": "cba78cca-e73d-4b0c-a226-fae7751c9b48",
   "metadata": {
    "tags": []
   },
   "outputs": [
    {
     "name": "stdout",
     "output_type": "stream",
     "text": [
      "Epochs: 500, \tTraining loss 22.44700813293457, \tValidation loss: 61.00710678100586\n",
      "Epochs: 1000, \tTraining loss 22.204586029052734, \tValidation loss: 60.24424743652344\n",
      "Epochs: 1500, \tTraining loss 21.965097427368164, \tValidation loss: 59.49117660522461\n",
      "Epochs: 2000, \tTraining loss 21.728504180908203, \tValidation loss: 58.747833251953125\n",
      "Epochs: 2500, \tTraining loss 21.49477195739746, \tValidation loss: 58.01403045654297\n",
      "Epochs: 3000, \tTraining loss 21.263866424560547, \tValidation loss: 57.2896728515625\n",
      "Epochs: 3500, \tTraining loss 21.035755157470703, \tValidation loss: 56.574623107910156\n",
      "Epochs: 4000, \tTraining loss 20.810407638549805, \tValidation loss: 55.868804931640625\n",
      "Epochs: 4500, \tTraining loss 20.587779998779297, \tValidation loss: 55.17207336425781\n",
      "Epochs: 5000, \tTraining loss 20.367849349975586, \tValidation loss: 54.48433303833008\n",
      "\n",
      "Epochs: 500, \tTraining loss 7.093513011932373, \tValidation loss: 31.375423431396484\n",
      "Epochs: 1000, \tTraining loss 5.880574703216553, \tValidation loss: 27.43398666381836\n",
      "Epochs: 1500, \tTraining loss 5.000383377075195, \tValidation loss: 24.286272048950195\n",
      "Epochs: 2000, \tTraining loss 4.361608505249023, \tValidation loss: 21.75691032409668\n",
      "Epochs: 2500, \tTraining loss 3.897984027862549, \tValidation loss: 19.712352752685547\n",
      "Epochs: 3000, \tTraining loss 3.5614330768585205, \tValidation loss: 18.050323486328125\n",
      "Epochs: 3500, \tTraining loss 3.317079544067383, \tValidation loss: 16.692068099975586\n",
      "Epochs: 4000, \tTraining loss 3.139615297317505, \tValidation loss: 15.576534271240234\n",
      "Epochs: 4500, \tTraining loss 3.01067852973938, \tValidation loss: 14.656118392944336\n",
      "Epochs: 5000, \tTraining loss 2.916952133178711, \tValidation loss: 13.893463134765625\n",
      "\n"
     ]
    },
    {
     "data": {
      "image/png": "[encoded data removed]",
      "text/plain": [
       "<Figure size 640x480 with 1 Axes>"
      ]
     },
     "metadata": {},
     "output_type": "display_data"
    }
   ],
   "source": [
    "#Optimized Adam model linear vs non-linear LR = 0.1\n",
    "\n",
    "linear_parameters = torch.tensor([1.0, 0.0], requires_grad = True)\n",
    "nonlinear_parameters = torch.tensor([1.0, 1.0, 0.0], requires_grad=True)\n",
    "learning_rate = 0.0001\n",
    "epochs = 5000\n",
    "\n",
    "linear_optimizer = optim.SGD([linear_parameters], lr = learning_rate)\n",
    "SGD = optim.SGD([nonlinear_parameters], lr = learning_rate)\n",
    "\n",
    "linear = linear_training_loop(epochs, linear_optimizer, linear_parameters, train_t_u, val_t_u, train_t_c, val_t_c)\n",
    "nonlinear_SGD = non_linear_training_loop(epochs, SGD, nonlinear_parameters, train_t_un, val_t_un, train_t_c, val_t_c)\n",
    "\n",
    "t_p_linear = linear_model(t_u, *linear).detach().numpy()\n",
    "t_p_nonlinear_SGD = non_linear_model(t_un, *nonlinear_SGD).detach().numpy()\n",
    "\n",
    "plt.scatter(t_u, t_c, label = 'Data Points')\n",
    "plt.plot(t_u, t_p_linear, label = 'SGD Linear Model')\n",
    "plt.plot(t_u, t_p_nonlinear_SGD, label = 'SGD Non-Linear Model')\n",
    "\n",
    "plt.legend()\n",
    "plt.show()"
   ]
  }
 ],
 "metadata": {
  "kernelspec": {
   "display_name": "Python 3 (ipykernel)",
   "language": "python",
   "name": "python3"
  },
  "language_info": {
   "codemirror_mode": {
    "name": "ipython",
    "version": 3
   },
   "file_extension": ".py",
   "mimetype": "text/x-python",
   "name": "python",
   "nbconvert_exporter": "python",
   "pygments_lexer": "ipython3",
   "version": "3.11.4"
  }
 },
 "nbformat": 4,
 "nbformat_minor": 5
}
